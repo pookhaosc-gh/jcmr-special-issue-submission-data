{
 "cells": [
  {
   "cell_type": "markdown",
   "metadata": {},
   "source": [
    "# Supplementary analysis\n",
    "\n",
    "This code compares on-ride self-reports with post-ride self-reports to:\n",
    "1. compute the number of mismatched responses and their percentage\n",
    "2. calculate the average on-ride and post-ride ratings for each participant\n",
    "3. examine the (0 = busy route / Hengelosestraat, \n",
    "   1 = peaceful route / F35) and participants' on-ride self-reported valence.\n"
   ]
  },
  {
   "cell_type": "code",
   "execution_count": 4,
   "metadata": {},
   "outputs": [],
   "source": [
    "import numpy as np\n",
    "import pandas as pd\n",
    "from scipy.stats import pearsonr\n"
   ]
  },
  {
   "cell_type": "markdown",
   "metadata": {},
   "source": [
    "## Number and percentage of mismatched responses"
   ]
  },
  {
   "cell_type": "code",
   "execution_count": 5,
   "metadata": {},
   "outputs": [],
   "source": [
    "# List of participant IDs\n",
    "PARTICIPANTS = ['P01', 'P02', 'P03', 'P04', 'P05', \n",
    "                'P06', 'P07', 'P08', 'P09', 'P10', \n",
    "                'P11', 'P12', 'P13', 'P14', 'P15', \n",
    "                'P16', 'P17']\n",
    "\n",
    "# ROUTES dictionary maps each participant to an array of 0s (busy route) or 1s (peaceful route).\n",
    "# Each index corresponds to the route type reported at a particular time or prompt.\n",
    "ROUTES = {\n",
    "    'P01': [0, 0, 0, 0, 1, 1, 1, 1, 1],\n",
    "    'P02': [0, 0, 0, 0, 0, 1, 1, 1, 1, 1],\n",
    "    'P03': [0, 0, 0, 0, 1, 1, 1, 1, 1],\n",
    "    'P04': [1, 1, 1, 1, 0, 0, 0, 0, 0],\n",
    "    'P05': [1, 1, 1, 1, 1, 0, 0, 0, 0],\n",
    "    'P06': [0, 0, 0, 0, 0, 1, 1, 1, 1],\n",
    "    'P07': [1, 1, 1, 1, 1, 1, 0, 0, 0, 0, 0],\n",
    "    'P08': [1, 1, 1, 1, 0, 0, 0, 0, 0],\n",
    "    'P09': [1, 1, 1, 1, 0, 0, 0, 0],\n",
    "    'P10': [0, 0, 0, 0, 0, 1, 1, 1, 1],\n",
    "    'P11': [0, 0, 0, 0, 0, 1, 1, 1, 1],\n",
    "    'P12': [0, 0, 0, 0, 0, 1, 1, 1, 1],\n",
    "    'P13': [0, 0, 0, 0, 0, 0, 1, 1, 1],\n",
    "    'P14': [0, 0, 0, 0, 1, 1, 1, 1],\n",
    "    'P15': [1, 1, 1, 1, 1, 0, 0, 0, 0],\n",
    "    'P16': [1, 1, 1, 1, 1, 1, 0, 0, 0, 0, 0],\n",
    "    'P17': [1, 1, 1, 1, 1, 1, 0, 0, 0, 0, 0],\n",
    "}"
   ]
  },
  {
   "cell_type": "code",
   "execution_count": 6,
   "metadata": {},
   "outputs": [],
   "source": [
    "# Lists to store results of mismatch between on-ride (row 0) and post-ride (row 1) ratings\n",
    "num_differences = []\n",
    "percentage_mismatch = []\n",
    "\n",
    "# Loop through each participant's self-report CSV file, append route data, \n",
    "# and calculate the number of mismatches.\n",
    "for participant_id in PARTICIPANTS:\n",
    "    # Read on-ride (row 0) and post-ride (row 1) from CSV\n",
    "    self_reports_csv = pd.read_csv(f'data/self-reports/{participant_id}.csv', header=None)\n",
    "    self_reports = self_reports_csv.values\n",
    "    \n",
    "    # Append the route array as a new row (row 2).\n",
    "    self_reports = np.append(\n",
    "        self_reports, \n",
    "        np.asarray(ROUTES[participant_id]).reshape(1, -1), \n",
    "        axis=0\n",
    "    )\n",
    "    \n",
    "    # Count how many values differ between on-ride and post-ride\n",
    "    n_diff = np.sum(self_reports[0] != self_reports[1])\n",
    "    perc_diff = n_diff / self_reports.shape[1] * 100\n",
    "    \n",
    "    num_differences.append(n_diff)\n",
    "    percentage_mismatch.append(perc_diff)"
   ]
  },
  {
   "cell_type": "code",
   "execution_count": 7,
   "metadata": {},
   "outputs": [
    {
     "name": "stdout",
     "output_type": "stream",
     "text": [
      "Mean number of mismatches: 2.9411764705882355\n",
      "Mean percentage mismatch: 31.26262626262626\n"
     ]
    }
   ],
   "source": [
    "print(\"Mean number of mismatches:\", np.mean(np.asarray(num_differences)))\n",
    "print(\"Mean percentage mismatch:\", np.mean(np.asarray(percentage_mismatch)))"
   ]
  },
  {
   "cell_type": "markdown",
   "metadata": {},
   "source": [
    "## Average on-ride and post-ride ratings"
   ]
  },
  {
   "cell_type": "code",
   "execution_count": 8,
   "metadata": {},
   "outputs": [],
   "source": [
    "# Compute average on-ride and post-ride self-report ratings per participant\n",
    "on_ride_average = []\n",
    "post_ride_average = []\n",
    "\n",
    "for participant_id in PARTICIPANTS:\n",
    "    self_reports_csv = pd.read_csv(f'data/self-reports/{participant_id}.csv', header=None)\n",
    "    self_reports = self_reports_csv.values\n",
    "    \n",
    "    # Append route array\n",
    "    self_reports = np.append(\n",
    "        self_reports, \n",
    "        np.asarray(ROUTES[participant_id]).reshape(1, -1), \n",
    "        axis=0\n",
    "    )\n",
    "    \n",
    "    # Convert strings to float before averaging\n",
    "    on_ride_avg = self_reports[0].astype(float).mean()\n",
    "    post_ride_avg = self_reports[1].astype(float).mean()\n",
    "    \n",
    "    on_ride_average.append(on_ride_avg)\n",
    "    post_ride_average.append(post_ride_avg)"
   ]
  },
  {
   "cell_type": "code",
   "execution_count": 9,
   "metadata": {},
   "outputs": [
    {
     "name": "stdout",
     "output_type": "stream",
     "text": [
      "Mean on-ride rating: 2.2298871063576944\n",
      "Mean post-ride rating: 2.128921568627451\n"
     ]
    }
   ],
   "source": [
    "print(\"Mean on-ride rating:\", np.mean(np.asarray(on_ride_average)))\n",
    "print(\"Mean post-ride rating:\", np.mean(np.asarray(post_ride_average)))"
   ]
  },
  {
   "cell_type": "code",
   "execution_count": 10,
   "metadata": {},
   "outputs": [],
   "source": [
    "# Detailed example for a single participant (P16); prints mismatch and correlation with route\n",
    "participant_id = 'P16'\n",
    "self_reports_csv = pd.read_csv(f'data/self-reports/{participant_id}.csv', header=None)\n",
    "self_reports = self_reports_csv.values\n",
    "self_reports = np.append(\n",
    "    self_reports, \n",
    "    np.asarray(ROUTES[participant_id]).reshape(1, -1), \n",
    "    axis=0\n",
    ")"
   ]
  },
  {
   "cell_type": "code",
   "execution_count": 11,
   "metadata": {},
   "outputs": [
    {
     "name": "stdout",
     "output_type": "stream",
     "text": [
      "\n",
      "Detailed example for P16:\n",
      "Self-reports array (first row on-ride, second row post-ride, third row route):\n",
      "[[3 2 2 2 2 2 2 2 3 3 3]\n",
      " [3 2 2 3 2 2 2 2 3 3 2]\n",
      " [1 1 1 1 1 1 0 0 0 0 0]]\n",
      "Summary of on-ride:\n",
      "Mean: 2.3636363636363638\n",
      "SD: 0.48104569292083466\n"
     ]
    }
   ],
   "source": [
    "print(f\"\\nDetailed example for {participant_id}:\")\n",
    "print(\"Self-reports array (first row on-ride, second row post-ride, third row route):\")\n",
    "print(self_reports)\n",
    "print(\"Summary of on-ride:\")\n",
    "print(f\"Mean: {self_reports[0].mean()}\")\n",
    "print(f\"SD: {self_reports[0].std()}\")"
   ]
  },
  {
   "cell_type": "code",
   "execution_count": 12,
   "metadata": {},
   "outputs": [
    {
     "name": "stdout",
     "output_type": "stream",
     "text": [
      "\n",
      "On-ride vs. post-ride comparison:\n",
      "Prompts: 11\n",
      "Differences: 2\n",
      "Percentage mismatch: 18.18%\n"
     ]
    }
   ],
   "source": [
    "num_differences = np.sum(self_reports[0] != self_reports[1])\n",
    "print(\"\\nOn-ride vs. post-ride comparison:\")\n",
    "print(f\"Prompts: {self_reports.shape[1]}\")\n",
    "print(f\"Differences: {num_differences}\")\n",
    "print(f\"Percentage mismatch: {num_differences / self_reports.shape[1] * 100:.2f}%\")"
   ]
  },
  {
   "cell_type": "markdown",
   "metadata": {},
   "source": [
    "## Correlation between route type"
   ]
  },
  {
   "cell_type": "code",
   "execution_count": 13,
   "metadata": {},
   "outputs": [
    {
     "name": "stdout",
     "output_type": "stream",
     "text": [
      "\n",
      "Correlation between on-ride self-report and route type:\n",
      "Correlation coefficient: -0.4485426135725303\n",
      "p-value: 0.16643734614715577\n"
     ]
    }
   ],
   "source": [
    "# Correlation between on-ride self-report and route type\n",
    "correlation_coefficient, p_value = pearsonr(self_reports[0], ROUTES[participant_id])\n",
    "print(\"\\nCorrelation between on-ride self-report and route type:\")\n",
    "print(f\"Correlation coefficient: {correlation_coefficient}\")\n",
    "print(f\"p-value: {p_value}\")"
   ]
  },
  {
   "cell_type": "code",
   "execution_count": 14,
   "metadata": {},
   "outputs": [],
   "source": [
    "# Recompute on_ride_average and post_ride_average, \n",
    "# though we already did above. This section merges all on-ride data across participants.\n",
    "on_ride_average = []\n",
    "post_ride_average = []\n",
    "for participant_id in PARTICIPANTS:\n",
    "    self_reports_csv = pd.read_csv(f'data/self-reports/{participant_id}.csv', header=None)\n",
    "    self_reports = self_reports_csv.values\n",
    "    self_reports = np.append(\n",
    "        self_reports, \n",
    "        np.asarray(ROUTES[participant_id]).reshape(1, -1), \n",
    "        axis=0\n",
    "    )\n",
    "    on_ride_average.append(self_reports[0].astype(float).mean())\n",
    "    post_ride_average.append(self_reports[1].astype(float).mean())\n",
    "\n",
    "# Gather all on-ride self-reports from all participants, along with route data, \n",
    "# to compute a correlation across the entire dataset.\n",
    "all_on_ride_self_reports = []\n",
    "all_routes = []\n",
    "\n",
    "for participant_id in PARTICIPANTS:\n",
    "    self_reports_csv = pd.read_csv(f'data/self-reports/{participant_id}.csv', header=None)\n",
    "    self_reports = self_reports_csv.values\n",
    "    self_reports = np.append(\n",
    "        self_reports, \n",
    "        np.asarray(ROUTES[participant_id]).reshape(1, -1), \n",
    "        axis=0\n",
    "    )\n",
    "    \n",
    "    # Row 0 = on-ride self-report\n",
    "    all_on_ride_self_reports.append(self_reports[0].astype(float))\n",
    "    # Route data (row 2)\n",
    "    all_routes.append(ROUTES[participant_id])\n",
    "\n",
    "# Flatten arrays to create a single list of on-ride self-reports and routes\n",
    "merged_all_on_ride_self_reports = []\n",
    "merged_all_routes = []\n",
    "\n",
    "for arr in all_on_ride_self_reports:\n",
    "    merged_all_on_ride_self_reports.extend(arr)\n",
    "\n",
    "for arr in all_routes:\n",
    "    merged_all_routes.extend(arr)\n",
    "\n",
    "merged_all_on_ride_self_reports = np.asarray(merged_all_on_ride_self_reports)\n",
    "merged_all_routes = np.asarray(merged_all_routes)\n",
    "\n",
    "# Pearson correlation over all participants & prompts\n",
    "correlation_coefficient, p_value = pearsonr(merged_all_routes, merged_all_on_ride_self_reports)"
   ]
  },
  {
   "cell_type": "code",
   "execution_count": 15,
   "metadata": {},
   "outputs": [
    {
     "name": "stdout",
     "output_type": "stream",
     "text": [
      "\n",
      "Overall correlation across all participants and prompts:\n",
      "Correlation coefficient (route vs. on-ride rating): -0.05787695769034776\n",
      "p-value: 0.47009083715885897\n"
     ]
    }
   ],
   "source": [
    "print(\"\\nOverall correlation across all participants and prompts:\")\n",
    "print(f\"Correlation coefficient (route vs. on-ride rating): {correlation_coefficient}\")\n",
    "print(f\"p-value: {p_value}\")"
   ]
  }
 ],
 "metadata": {
  "kernelspec": {
   "display_name": "jcmr",
   "language": "python",
   "name": "python3"
  },
  "language_info": {
   "codemirror_mode": {
    "name": "ipython",
    "version": 3
   },
   "file_extension": ".py",
   "mimetype": "text/x-python",
   "name": "python",
   "nbconvert_exporter": "python",
   "pygments_lexer": "ipython3",
   "version": "3.13.1"
  },
  "orig_nbformat": 4
 },
 "nbformat": 4,
 "nbformat_minor": 2
}
