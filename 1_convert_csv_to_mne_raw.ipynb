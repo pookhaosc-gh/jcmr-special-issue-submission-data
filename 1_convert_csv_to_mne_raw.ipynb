{
 "cells": [
  {
   "cell_type": "markdown",
   "metadata": {},
   "source": [
    "# Conversion of raw data in CSV format to MNE Raw\n",
    "\n",
    "This notebook is used to convert CSV (from Brite) data into an MNE Raw object for further processing and analysis using the MNE-Python framework. It is used in conjunction with the `participants.xlsx` spreadsheet."
   ]
  },
  {
   "cell_type": "code",
   "execution_count": null,
   "metadata": {},
   "outputs": [],
   "source": [
    "import pandas as pd\n",
    "import mne"
   ]
  },
  {
   "attachments": {},
   "cell_type": "markdown",
   "metadata": {},
   "source": [
    "## Define data file settings\n",
    "\n",
    "Refer to the information in the Excel spreadsheet. Modify this section for the data file you want to convert. "
   ]
  },
  {
   "cell_type": "code",
   "execution_count": null,
   "metadata": {},
   "outputs": [],
   "source": [
    "participant_id = 'P17'\n",
    "number_of_prompts = 11\n",
    "brite_event = 826.82  # Time (in seconds) when cycling started (second event on Brite)"
   ]
  },
  {
   "attachments": {},
   "cell_type": "markdown",
   "metadata": {},
   "source": [
    "## Create MNE Raw object from CSV data"
   ]
  },
  {
   "cell_type": "code",
   "execution_count": null,
   "metadata": {},
   "outputs": [],
   "source": [
    "# Read CSV data\n",
    "data = pd.read_csv(f'data/csv/{participant_id}.csv')\n",
    "data = data.transpose()"
   ]
  },
  {
   "cell_type": "code",
   "execution_count": null,
   "metadata": {},
   "outputs": [],
   "source": [
    "ch_names = [\n",
    "    'S1_D1 hbr',\n",
    "    'S1_D1 hbo',\n",
    "    'S2_D1 hbr',\n",
    "    'S2_D1 hbo',\n",
    "    'S3_D1 hbr',\n",
    "    'S3_D1 hbo',\n",
    "    'S1_D2 hbr',\n",
    "    'S1_D2 hbo',\n",
    "    'S3_D2 hbr',\n",
    "    'S3_D2 hbo',\n",
    "    'S4_D2 hbr',\n",
    "    'S4_D2 hbo',\n",
    "    'S2_D3 hbr',\n",
    "    'S2_D3 hbo',\n",
    "    'S3_D3 hbr',\n",
    "    'S3_D3 hbo',\n",
    "    'S5_D3 hbr',\n",
    "    'S5_D3 hbo',\n",
    "    'S6_D3 hbr',\n",
    "    'S6_D3 hbo',\n",
    "    'S3_D4 hbr',\n",
    "    'S3_D4 hbo',\n",
    "    'S4_D4 hbr',\n",
    "    'S4_D4 hbo',\n",
    "    'S5_D4 hbr',\n",
    "    'S5_D4 hbo',\n",
    "    'S8_D4 hbr',\n",
    "    'S8_D4 hbo',\n",
    "    'S5_D5 hbr',\n",
    "    'S5_D5 hbo',\n",
    "    'S6_D5 hbr',\n",
    "    'S6_D5 hbo',\n",
    "    'S7_D5 hbr',\n",
    "    'S7_D5 hbo',\n",
    "    'S4_D6 hbr',\n",
    "    'S4_D6 hbo',\n",
    "    'S8_D6 hbr',\n",
    "    'S8_D6 hbo',\n",
    "    'S9_D6 hbr',\n",
    "    'S9_D6 hbo',\n",
    "    'S5_D7 hbr',\n",
    "    'S5_D7 hbo',\n",
    "    'S7_D7 hbr',\n",
    "    'S7_D7 hbo',\n",
    "    'S8_D7 hbr',\n",
    "    'S8_D7 hbo',\n",
    "    'S10_D7 hbr',\n",
    "    'S10_D7 hbo',\n",
    "    'S8_D8 hbr',\n",
    "    'S8_D8 hbo',\n",
    "    'S9_D8 hbr',\n",
    "    'S9_D8 hbo',\n",
    "    'S10_D8 hbr',\n",
    "    'S10_D8 hbo',\n",
    "]\n",
    "\n",
    "ch_types = [\n",
    "    'hbr',\n",
    "    'hbo',\n",
    "    'hbr',\n",
    "    'hbo',\n",
    "    'hbr',\n",
    "    'hbo',\n",
    "    'hbr',\n",
    "    'hbo',\n",
    "    'hbr',\n",
    "    'hbo',\n",
    "    'hbr',\n",
    "    'hbo',\n",
    "    'hbr',\n",
    "    'hbo',\n",
    "    'hbr',\n",
    "    'hbo',\n",
    "    'hbr',\n",
    "    'hbo',\n",
    "    'hbr',\n",
    "    'hbo',\n",
    "    'hbr',\n",
    "    'hbo',\n",
    "    'hbr',\n",
    "    'hbo',\n",
    "    'hbr',\n",
    "    'hbo',\n",
    "    'hbr',\n",
    "    'hbo',\n",
    "    'hbr',\n",
    "    'hbo',\n",
    "    'hbr',\n",
    "    'hbo',\n",
    "    'hbr',\n",
    "    'hbo',\n",
    "    'hbr',\n",
    "    'hbo',\n",
    "    'hbr',\n",
    "    'hbo',\n",
    "    'hbr',\n",
    "    'hbo',\n",
    "    'hbr',\n",
    "    'hbo',\n",
    "    'hbr',\n",
    "    'hbo',\n",
    "    'hbr',\n",
    "    'hbo',\n",
    "    'hbr',\n",
    "    'hbo',\n",
    "    'hbr',\n",
    "    'hbo',\n",
    "    'hbr',\n",
    "    'hbo',\n",
    "    'hbr',\n",
    "    'hbo',\n",
    "]\n",
    "\n",
    "sfreq = 50.0"
   ]
  },
  {
   "cell_type": "code",
   "execution_count": null,
   "metadata": {},
   "outputs": [],
   "source": [
    "# Create MNE info object and load the data into a RawArray\n",
    "info = mne.create_info(ch_names=ch_names, ch_types=ch_types, sfreq=sfreq)\n",
    "raw = mne.io.RawArray(data, info, verbose=True)\n",
    "raw.info['subject_info'] = {'his_id': participant_id}"
   ]
  },
  {
   "cell_type": "code",
   "execution_count": null,
   "metadata": {},
   "outputs": [],
   "source": [
    "raw.info"
   ]
  },
  {
   "attachments": {},
   "cell_type": "markdown",
   "metadata": {},
   "source": [
    "## Add annotations"
   ]
  },
  {
   "cell_type": "code",
   "execution_count": null,
   "metadata": {},
   "outputs": [],
   "source": [
    "# Define initial events:\n",
    "# - Baseline starts 90 seconds before the brite_event.\n",
    "# - Baseline ends / Cycling starts at the brite_event.\n",
    "\n",
    "descriptions = ['baseline starts', 'baseline ends/cycling starts']\n",
    "durations = [0, 0]\n",
    "onsets = [brite_event-90, brite_event]\n",
    "\n",
    "# Add \"prompt\" events. Each prompt is added every 180 seconds after the brite_event.\n",
    "for i in range(number_of_prompts):\n",
    "    descriptions.append('prompt')\n",
    "    onsets.append(brite_event + (180*(i+1)) )\n",
    "    durations.append(0)\n",
    "\n",
    "# Apply the annotations to the raw object\n",
    "raw.set_annotations(\n",
    "    mne.Annotations(onset=onsets, duration=durations, description=descriptions)\n",
    ")"
   ]
  },
  {
   "attachments": {},
   "cell_type": "markdown",
   "metadata": {},
   "source": [
    "## Set montage to raw object"
   ]
  },
  {
   "cell_type": "code",
   "execution_count": null,
   "metadata": {},
   "outputs": [],
   "source": [
    "# Define channel positions in millimeters\n",
    "ch_pos = {\n",
    "    'D1': [39.56, 62.65, 34.63],\n",
    "    'D2': [21.87, 73.35, 34.39],\n",
    "    'D3': [23.22, 39.78, 71.38],\n",
    "    'D4': [-1.09, 70.73, 47.82],\n",
    "    'D5': [1.2, 31.87, 81.54],\n",
    "    'D6': [-22.77, 75.39, 30.82],\n",
    "    'D7': [-21.11, 43.18, 70.97],\n",
    "    'D8': [-39.92, 62.32, 37.46],\n",
    "    'S1': [36.67, 73.91, 5.64],\n",
    "    'S2': [40.19, 41.9, 58.11],\n",
    "    'S3': [20.15, 58.2, 57.59],\n",
    "    'S4': [1.23, 83.42, 21.47],\n",
    "    'S5': [-0.25, 54.13, 66.91],\n",
    "    'S6': [-22.36, 19.57, 83.1],\n",
    "    'S7': [20.49, 17.85, 83.74],\n",
    "    'S8': [-19.1, 61.39, 55.58],\n",
    "    'S9': [-35.32, 75.97, 4.81],\n",
    "    'S10': [-38.58, 42.89, 60.36],\n",
    "    'Fpz': [1.23, 83.42, 21.47],\n",
    "    'Oz': [0.84, -112.65, 32.29],\n",
    "    'T7': [-86.93, -22.91, 3.13],\n",
    "    'T8': [84.91, -23.79, 3.42],\n",
    "}\n",
    "\n",
    "# Define the coordinate frame and fiducial points (in millimeters)\n",
    "coord_frame = 'mni_tal'\n",
    "nasion = [-0.84, 86.21, -57.16]\n",
    "lpa = [-86.93, -22.91, 3.13]\n",
    "rpa = [84.91, -23.79, 3.42]\n",
    "\n",
    "# Convert all positions from millimeters to meters\n",
    "for key, value in ch_pos.items():\n",
    "    ch_pos[key] = [x / 1000 for x in value]\n",
    "nasion = [x / 1000 for x in nasion]\n",
    "lpa = [x / 1000 for x in lpa]\n",
    "rpa = [x / 1000 for x in rpa]\n",
    "\n",
    "# Create and set the montage (sensor configuration)\n",
    "montage = mne.channels.make_dig_montage(\n",
    "    ch_pos=ch_pos, nasion=nasion, lpa=lpa, rpa=rpa, coord_frame=coord_frame)\n",
    "raw.set_montage(montage)"
   ]
  },
  {
   "cell_type": "code",
   "execution_count": null,
   "metadata": {},
   "outputs": [],
   "source": [
    "# Define a sphere for sensor topography plotting (center and radius in meters)\n",
    "sphere = (0, 0, 0, 0.09)\n",
    "\n",
    "mne.viz.plot_sensors(raw.info, kind='topomap', sphere=sphere,\n",
    "                     show_names=True, ch_type='hbr', verbose=True)\n",
    "mne.viz.plot_sensors(raw.info, kind='3d', show_names=False, ch_type='hbo',\n",
    "                     verbose=True, show=False).gca().view_init(azim=70, elev=15)"
   ]
  },
  {
   "attachments": {},
   "cell_type": "markdown",
   "metadata": {},
   "source": [
    "## Viewing raw data"
   ]
  },
  {
   "cell_type": "code",
   "execution_count": null,
   "metadata": {},
   "outputs": [],
   "source": [
    "raw.info"
   ]
  },
  {
   "cell_type": "code",
   "execution_count": null,
   "metadata": {},
   "outputs": [],
   "source": [
    "raw.plot()"
   ]
  },
  {
   "attachments": {},
   "cell_type": "markdown",
   "metadata": {},
   "source": [
    "## Save to file"
   ]
  },
  {
   "cell_type": "code",
   "execution_count": null,
   "metadata": {},
   "outputs": [],
   "source": [
    "raw.save(\n",
    "    fname=f'data/mne_raw/{participant_id}.fif',\n",
    "    overwrite=True,\n",
    "    verbose=True\n",
    ")"
   ]
  }
 ],
 "metadata": {
  "kernelspec": {
   "display_name": "jcmr",
   "language": "python",
   "name": "python3"
  },
  "language_info": {
   "codemirror_mode": {
    "name": "ipython",
    "version": 3
   },
   "file_extension": ".py",
   "mimetype": "text/x-python",
   "name": "python",
   "nbconvert_exporter": "python",
   "pygments_lexer": "ipython3",
   "version": "3.13.1"
  },
  "orig_nbformat": 4
 },
 "nbformat": 4,
 "nbformat_minor": 2
}
